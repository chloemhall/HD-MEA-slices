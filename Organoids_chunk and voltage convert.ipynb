{
 "cells": [
  {
   "cell_type": "markdown",
   "id": "ff469af3",
   "metadata": {},
   "source": [
    "# load AccuraTools"
   ]
  },
  {
   "cell_type": "code",
   "execution_count": 1,
   "id": "9a7a6ef8",
   "metadata": {},
   "outputs": [],
   "source": [
    "# ------------------------------------------------------------------------------------------------------------ #\n",
    "### Path were the AccuraTools.jl file exists\n",
    "\n",
    "PATHFunctions = raw\"C:\\Users\\hallchlo\\OneDrive - JGU\\Julia HD-MEA\\Masood\";\n",
    "\n",
    "push!( LOAD_PATH, PATHFunctions );\n",
    "using AccuraTools\n",
    "using Artefacts"
   ]
  },
  {
   "cell_type": "code",
   "execution_count": 2,
   "id": "f52e3ed2",
   "metadata": {
    "scrolled": true
   },
   "outputs": [
    {
     "name": "stdout",
     "output_type": "stream",
     "text": [
      "Creation Date: Mon, 13 Nov 2023 15:34:05\n",
      "You are now working on the new main path: D:\\cytoD\\13thNov23\\control_ctx_s2_01\n",
      "control_ctx_s2_01.brw : null\n",
      "HDF5 file size: 43.6230648125 GB\n"
     ]
    }
   ],
   "source": [
    "#Isabel's test01 code \n",
    "using JLD\n",
    "FILEBRW = raw\"D:\\cytoD\\13thNov23\\control_ctx_s2_01.brw\"; \n",
    "Variables = VariablesBRW4( FILEBRW ) ;"
   ]
  },
  {
   "cell_type": "markdown",
   "id": "94b92106",
   "metadata": {},
   "source": [
    "# chunk data"
   ]
  },
  {
   "cell_type": "code",
   "execution_count": null,
   "id": "b37e6364",
   "metadata": {},
   "outputs": [
    {
     "name": "stdout",
     "output_type": "stream",
     "text": [
      "Creation Date: Mon, 13 Nov 2023 15:34:05\n"
     ]
    }
   ],
   "source": [
    "# ------------------------------------------------------------------------------------------------------------ #\n",
    "### Get the dataset in a matrix of manageable dimentions\n",
    "Variables = VariablesBRW4( FILEBRW );\n",
    "PATHMAIN = split( FILEBRW, \".\" )[ 1 ]; cd( PATHMAIN );\n",
    "PATHSegments = joinpath( PATHMAIN, \"Segments\" ); mkpath( PATHSegments );\n",
    "FILEVariables = joinpath( PATHMAIN, \"Info\", \"Variables.jld\" );\n",
    "\n",
    "limLow = 0.3# GB\n",
    "limHigh = 0.6 # GB\n",
    "\n",
    "Variables = Get_Chunks( Variables, PATHSegments, limLow, limHigh );\n",
    "\n",
    "# ------------------------------------------------------------------------------------------------------------ #"
   ]
  },
  {
   "cell_type": "markdown",
   "id": "96a7e4cc",
   "metadata": {},
   "source": [
    "# Voltage conversion \n",
    "    NB: this uses the new formula from 3Brain. For brw files from Brainwave5. \n",
    "    note the Chloe function Dict{String, Any} version of variables needed for the voltage conversion cell to work. \n",
    "    Creates a matrix data where rows are channels / electrodes, and the column is a sampled value. \n",
    "\n"
   ]
  },
  {
   "cell_type": "code",
   "execution_count": 4,
   "id": "840f37de",
   "metadata": {},
   "outputs": [],
   "source": [
    "# ------------------------------------------------------------------------------------------------------------ #\n",
    "### Voltage Convertion\n",
    "PATHVoltage = replace( PATHSegments, \"Segments\" => \"Voltage\" ); \n",
    "mkpath( PATHVoltage );\n",
    "nChs = Variables[ \"nChs\" ]; #channels = organoid_channels;\n",
    "FILESsegments = searchdir( PATHSegments, \"jld\" );\n",
    "nSegments = length( FILESsegments );\n",
    "#nSegments is correct. this clearly works. \n",
    "\n",
    "# ------------------------------------------------------------------------------------------------------------ #"
   ]
  },
  {
   "cell_type": "code",
   "execution_count": 5,
   "id": "76bacf37",
   "metadata": {
    "scrolled": true
   },
   "outputs": [],
   "source": [
    "# ------------------------------------------------------------------------------------------------------------ #\n",
    "#FOR SEGMENTS \n",
    "for i =1:length( FILESsegments );#\n",
    "    FILEsegments = FILESsegments[ i ];\n",
    "    FILEVoltage = joinpath( PATHVoltage, replace( basename( FILEsegments ), \"BIN\" => \"DIG\" ) );\n",
    "    data = load( FILEsegments )[ \"data\" ];\n",
    "data = VoltageConvert( data, Variables );\n",
    "    save( FILEVoltage, \"data\", data);\n",
    "end\n",
    "#THIS DID SOMETHING GOOD\n",
    "\n"
   ]
  },
  {
   "cell_type": "code",
   "execution_count": null,
   "id": "4c32dada",
   "metadata": {},
   "outputs": [],
   "source": []
  },
  {
   "cell_type": "code",
   "execution_count": null,
   "id": "472ab134",
   "metadata": {},
   "outputs": [],
   "source": []
  }
 ],
 "metadata": {
  "kernelspec": {
   "display_name": "Julia 1.8.1",
   "language": "julia",
   "name": "julia-1.8"
  },
  "language_info": {
   "file_extension": ".jl",
   "mimetype": "application/julia",
   "name": "julia",
   "version": "1.8.1"
  }
 },
 "nbformat": 4,
 "nbformat_minor": 5
}
