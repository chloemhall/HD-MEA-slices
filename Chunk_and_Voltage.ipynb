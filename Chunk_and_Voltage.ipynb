{
 "cells": [
  {
   "cell_type": "markdown",
   "id": "ff469af3",
   "metadata": {},
   "source": [
    "# load AccuraTools"
   ]
  },
  {
   "cell_type": "code",
   "execution_count": 1,
   "id": "9a7a6ef8",
   "metadata": {},
   "outputs": [],
   "source": [
    "# ------------------------------------------------------------------------------------------------------------ #\n",
    "### Path were the AccuraTools.jl file exists\n",
    "\n",
    "PATHFunctions = raw\"C:\\Users\\hallchlo\\OneDrive - JGU\\Julia HD-MEA\\Masood\";\n",
    "\n",
    "push!( LOAD_PATH, PATHFunctions );\n",
    "using AccuraTools\n",
    "using Artefacts"
   ]
  },
  {
   "cell_type": "code",
   "execution_count": 2,
   "id": "f52e3ed2",
   "metadata": {
    "scrolled": true
   },
   "outputs": [
    {
     "name": "stdout",
     "output_type": "stream",
     "text": [
      "Creation Date: Wed, 13 Dec 2023 15:19:46\n",
      "You are now working on the new main path: E:\\WT\\13th Dec 23\\DMSO WT\\Slice_05\n",
      "Slice_05.brw : WTDMSO\n",
      "HDF5 file size: 43.626138859375 GB\n"
     ]
    }
   ],
   "source": [
    "#Isabel's test01 code #slice 03 next!\n",
    "using JLD\n",
    "#FILEBRW = raw\"D:\\Masood\\CLN3 ML-SA5 HD-MEA\\WT\\27thNov23\\DMSO WT\\slice3_01.brw\" ;\n",
    "FILEBRW = raw\"E:\\WT\\13th Dec 23\\DMSO WT\\Slice_05.brw\"; \n",
    "Variables = VariablesBRW4( FILEBRW ) ;"
   ]
  },
  {
   "cell_type": "markdown",
   "id": "94b92106",
   "metadata": {},
   "source": [
    "# chunk data"
   ]
  },
  {
   "cell_type": "code",
   "execution_count": 3,
   "id": "b37e6364",
   "metadata": {},
   "outputs": [
    {
     "name": "stdout",
     "output_type": "stream",
     "text": [
      "Creation Date: Wed, 13 Dec 2023 15:19:46\n",
      "You are now working on the new main path: E:\\WT\\13th Dec 23\\DMSO WT\\Slice_05\n",
      "Slice_05.brw : WTDMSO\n",
      "HDF5 file size: 43.626138859375 GB\n"
     ]
    }
   ],
   "source": [
    "# ------------------------------------------------------------------------------------------------------------ #\n",
    "### Get the dataset in a matrix of manageable dimentions\n",
    "Variables = VariablesBRW4( FILEBRW );\n",
    "PATHMAIN = split( FILEBRW, \".\" )[ 1 ]; cd( PATHMAIN );\n",
    "PATHSegments = joinpath( PATHMAIN, \"Segments\" ); mkpath( PATHSegments );\n",
    "FILEVariables = joinpath( PATHMAIN, \"Info\", \"Variables.jld\" );\n",
    "\n",
    "limLow = 0.3# GB\n",
    "limHigh = 0.6 # GB\n",
    "\n",
    "Variables = Get_Chunks( Variables, PATHSegments, limLow, limHigh );\n",
    "\n",
    "# ------------------------------------------------------------------------------------------------------------ #"
   ]
  },
  {
   "cell_type": "markdown",
   "id": "96a7e4cc",
   "metadata": {},
   "source": [
    "# Voltage conversion \n",
    "    NB: this uses the new formula from 3Brain. For brw files from Brainwave5. \n",
    "    note the Chloe function Dict{String, Any} version of variables needed for the voltage conversion cell to work. \n",
    "    Creates a matrix data where rows are channels / electrodes, and the column is a sampled value. \n",
    "\n"
   ]
  },
  {
   "cell_type": "code",
   "execution_count": 4,
   "id": "840f37de",
   "metadata": {},
   "outputs": [],
   "source": [
    "# ------------------------------------------------------------------------------------------------------------ #\n",
    "### Voltage Convertion\n",
    "PATHVoltage = replace( PATHSegments, \"Segments\" => \"Voltage\" ); \n",
    "mkpath( PATHVoltage );\n",
    "nChs = Variables[ \"nChs\" ]; #channels = organoid_channels;\n",
    "FILESsegments = searchdir( PATHSegments, \"jld\" );\n",
    "nSegments = length( FILESsegments );\n",
    "#nSegments is correct. this clearly works. \n",
    "\n",
    "# ------------------------------------------------------------------------------------------------------------ #"
   ]
  },
  {
   "cell_type": "code",
   "execution_count": 5,
   "id": "76bacf37",
   "metadata": {
    "scrolled": true
   },
   "outputs": [],
   "source": [
    "# ------------------------------------------------------------------------------------------------------------ #\n",
    "#FOR SEGMENTS \n",
    "for i =1:length( FILESsegments );#\n",
    "    FILEsegments = FILESsegments[ i ];\n",
    "    FILEVoltage = joinpath( PATHVoltage, replace( basename( FILEsegments ), \"BIN\" => \"DIG\" ) );\n",
    "    data = load( FILEsegments )[ \"data\" ];\n",
    "    data = VoltageConvert( data, Variables );\n",
    "    save( FILEVoltage, \"data\", data);\n",
    "end\n",
    "#THIS DID SOMETHING GOOD\n",
    "\n"
   ]
  },
  {
   "cell_type": "code",
   "execution_count": null,
   "id": "2a4e8037",
   "metadata": {},
   "outputs": [],
   "source": []
  }
 ],
 "metadata": {
  "kernelspec": {
   "display_name": "Julia 1.8.1",
   "language": "julia",
   "name": "julia-1.8"
  },
  "language_info": {
   "file_extension": ".jl",
   "mimetype": "application/julia",
   "name": "julia",
   "version": "1.8.1"
  }
 },
 "nbformat": 4,
 "nbformat_minor": 5
}
